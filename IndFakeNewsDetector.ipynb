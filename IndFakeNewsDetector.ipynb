{
 "cells": [
  {
   "cell_type": "markdown",
   "id": "3a858080-7909-4f38-bbda-9d7d22680b50",
   "metadata": {},
   "source": [
    "train_test_split: Uses 80% of the dataset for training and 20% for testing.\n",
    "TfidVectorizer: Used to represent the articles in numeric features.\n",
    "TF: Term frequency, number of times a word is repeated\n",
    "IDF: Inverse Document Frequency, tells about some important terms by comparing them  with other documents.\n",
    "LinerSVC: Linear Support Vector Classifier, the actual model used. Best for text data."
   ]
  },
  {
   "cell_type": "code",
   "execution_count": 47,
   "id": "001b1292-98ab-4782-aa82-b79a230d0287",
   "metadata": {},
   "outputs": [],
   "source": [
    "import numpy as np\n",
    "import pandas as pd\n",
    "import matplotlib.pyplot as plt\n",
    "\n",
    "from sklearn.model_selection import train_test_split\n",
    "from sklearn.feature_extraction.text import TfidfVectorizer\n",
    "from sklearn.svm import LinearSVC"
   ]
  },
  {
   "cell_type": "code",
   "execution_count": 48,
   "id": "6e506ac4-b7b2-42da-96e6-9c224da0e9b1",
   "metadata": {},
   "outputs": [],
   "source": [
    "file_path = 'IFND.csv'\n",
    "\n",
    "# Specify the encoding (e.g., 'utf-8', 'utf-16', 'iso-8859-1', etc.)\n",
    "encoding = 'iso-8859-1'\n",
    "\n",
    "try:\n",
    "    data = pd.read_csv(file_path, encoding=encoding)\n",
    "    # Display the first few rows of the DataFrame\n",
    "    data.head()\n",
    "except UnicodeDecodeError as e:\n",
    "    print(f\"UnicodeDecodeError: {e}\")"
   ]
  },
  {
   "cell_type": "code",
   "execution_count": 49,
   "id": "f598fe62-840a-4406-892c-ec06648b72c6",
   "metadata": {},
   "outputs": [],
   "source": [
    "data['fake'] = data['Label'].apply( lambda x: 0 if x == \"TRUE\" else 1)"
   ]
  },
  {
   "cell_type": "code",
   "execution_count": 50,
   "id": "c554e2b6-a6d8-4255-a55a-e52447a9755e",
   "metadata": {},
   "outputs": [],
   "source": [
    "data = data.drop(\"Label\", axis=1)"
   ]
  },
  {
   "cell_type": "code",
   "execution_count": 51,
   "id": "91ff6fa3-9c59-4bbd-849e-9d21728bc159",
   "metadata": {},
   "outputs": [
    {
     "name": "stdout",
     "output_type": "stream",
     "text": [
      "Number of Fake Articles: 18914\n",
      "Number of Real Articles: 37800\n"
     ]
    }
   ],
   "source": [
    "fake_count = (data['fake'] == 1).sum()  # Assuming 'FAKE' represents fake articles\n",
    "real_count = (data['fake'] == 0).sum()  # Assuming 'REAL' represents real articles\n",
    "\n",
    "print(f\"Number of Fake Articles: {fake_count}\")\n",
    "print(f\"Number of Real Articles: {real_count}\")"
   ]
  },
  {
   "cell_type": "code",
   "execution_count": 52,
   "id": "ad4c27d5-1d03-4ba2-9367-117ae9d33d11",
   "metadata": {
    "scrolled": true
   },
   "outputs": [],
   "source": [
    "X = data['Statement'] + data['Web'] + data['Category']"
   ]
  },
  {
   "cell_type": "code",
   "execution_count": 53,
   "id": "7df7450c-6edf-4ab3-9e0b-53b050d5850d",
   "metadata": {},
   "outputs": [],
   "source": [
    "y = data['fake']"
   ]
  },
  {
   "cell_type": "code",
   "execution_count": 54,
   "id": "8a6b0a36-01a7-4e3a-8b54-3d3ebaa49f0c",
   "metadata": {},
   "outputs": [],
   "source": [
    "X_train, X_test, y_train, y_test = train_test_split( X, y, test_size=0.2)"
   ]
  },
  {
   "cell_type": "code",
   "execution_count": 55,
   "id": "3a1d656e-580c-4b82-bd15-95c95052119e",
   "metadata": {},
   "outputs": [],
   "source": [
    "vectorizer = TfidfVectorizer(stop_words = \"english\", max_df = 0.7)\n",
    "X_train_vectorized = vectorizer.fit_transform(X_train)\n",
    "X_test_vectorized = vectorizer.transform(X_test)"
   ]
  },
  {
   "cell_type": "code",
   "execution_count": 56,
   "id": "27a98204-aef6-45a1-a13a-0a84fd2dfec1",
   "metadata": {},
   "outputs": [
    {
     "name": "stdout",
     "output_type": "stream",
     "text": [
      "X_train_vectorized shape: (45371, 50743)\n",
      "y_train shape: (45371,)\n"
     ]
    }
   ],
   "source": [
    "print(\"X_train_vectorized shape:\", X_train_vectorized.shape)\n",
    "print(\"y_train shape:\", y_train.shape)"
   ]
  },
  {
   "cell_type": "code",
   "execution_count": 57,
   "id": "01df6fc0-c242-4e59-b0ca-4f915aa44359",
   "metadata": {},
   "outputs": [
    {
     "data": {
      "text/plain": [
       "45371"
      ]
     },
     "execution_count": 57,
     "metadata": {},
     "output_type": "execute_result"
    }
   ],
   "source": [
    "len(X_train)"
   ]
  },
  {
   "cell_type": "code",
   "execution_count": 58,
   "id": "41c7a471-e337-4475-9ebd-a4c324e99a96",
   "metadata": {},
   "outputs": [
    {
     "data": {
      "text/plain": [
       "11343"
      ]
     },
     "execution_count": 58,
     "metadata": {},
     "output_type": "execute_result"
    }
   ],
   "source": [
    "len(X_test)"
   ]
  },
  {
   "cell_type": "code",
   "execution_count": 59,
   "id": "f781ebf3-8b49-4205-bb24-f4dc542060c9",
   "metadata": {},
   "outputs": [
    {
     "data": {
      "text/html": [
       "<style>#sk-container-id-3 {color: black;}#sk-container-id-3 pre{padding: 0;}#sk-container-id-3 div.sk-toggleable {background-color: white;}#sk-container-id-3 label.sk-toggleable__label {cursor: pointer;display: block;width: 100%;margin-bottom: 0;padding: 0.3em;box-sizing: border-box;text-align: center;}#sk-container-id-3 label.sk-toggleable__label-arrow:before {content: \"▸\";float: left;margin-right: 0.25em;color: #696969;}#sk-container-id-3 label.sk-toggleable__label-arrow:hover:before {color: black;}#sk-container-id-3 div.sk-estimator:hover label.sk-toggleable__label-arrow:before {color: black;}#sk-container-id-3 div.sk-toggleable__content {max-height: 0;max-width: 0;overflow: hidden;text-align: left;background-color: #f0f8ff;}#sk-container-id-3 div.sk-toggleable__content pre {margin: 0.2em;color: black;border-radius: 0.25em;background-color: #f0f8ff;}#sk-container-id-3 input.sk-toggleable__control:checked~div.sk-toggleable__content {max-height: 200px;max-width: 100%;overflow: auto;}#sk-container-id-3 input.sk-toggleable__control:checked~label.sk-toggleable__label-arrow:before {content: \"▾\";}#sk-container-id-3 div.sk-estimator input.sk-toggleable__control:checked~label.sk-toggleable__label {background-color: #d4ebff;}#sk-container-id-3 div.sk-label input.sk-toggleable__control:checked~label.sk-toggleable__label {background-color: #d4ebff;}#sk-container-id-3 input.sk-hidden--visually {border: 0;clip: rect(1px 1px 1px 1px);clip: rect(1px, 1px, 1px, 1px);height: 1px;margin: -1px;overflow: hidden;padding: 0;position: absolute;width: 1px;}#sk-container-id-3 div.sk-estimator {font-family: monospace;background-color: #f0f8ff;border: 1px dotted black;border-radius: 0.25em;box-sizing: border-box;margin-bottom: 0.5em;}#sk-container-id-3 div.sk-estimator:hover {background-color: #d4ebff;}#sk-container-id-3 div.sk-parallel-item::after {content: \"\";width: 100%;border-bottom: 1px solid gray;flex-grow: 1;}#sk-container-id-3 div.sk-label:hover label.sk-toggleable__label {background-color: #d4ebff;}#sk-container-id-3 div.sk-serial::before {content: \"\";position: absolute;border-left: 1px solid gray;box-sizing: border-box;top: 0;bottom: 0;left: 50%;z-index: 0;}#sk-container-id-3 div.sk-serial {display: flex;flex-direction: column;align-items: center;background-color: white;padding-right: 0.2em;padding-left: 0.2em;position: relative;}#sk-container-id-3 div.sk-item {position: relative;z-index: 1;}#sk-container-id-3 div.sk-parallel {display: flex;align-items: stretch;justify-content: center;background-color: white;position: relative;}#sk-container-id-3 div.sk-item::before, #sk-container-id-3 div.sk-parallel-item::before {content: \"\";position: absolute;border-left: 1px solid gray;box-sizing: border-box;top: 0;bottom: 0;left: 50%;z-index: -1;}#sk-container-id-3 div.sk-parallel-item {display: flex;flex-direction: column;z-index: 1;position: relative;background-color: white;}#sk-container-id-3 div.sk-parallel-item:first-child::after {align-self: flex-end;width: 50%;}#sk-container-id-3 div.sk-parallel-item:last-child::after {align-self: flex-start;width: 50%;}#sk-container-id-3 div.sk-parallel-item:only-child::after {width: 0;}#sk-container-id-3 div.sk-dashed-wrapped {border: 1px dashed gray;margin: 0 0.4em 0.5em 0.4em;box-sizing: border-box;padding-bottom: 0.4em;background-color: white;}#sk-container-id-3 div.sk-label label {font-family: monospace;font-weight: bold;display: inline-block;line-height: 1.2em;}#sk-container-id-3 div.sk-label-container {text-align: center;}#sk-container-id-3 div.sk-container {/* jupyter's `normalize.less` sets `[hidden] { display: none; }` but bootstrap.min.css set `[hidden] { display: none !important; }` so we also need the `!important` here to be able to override the default hidden behavior on the sphinx rendered scikit-learn.org. See: https://github.com/scikit-learn/scikit-learn/issues/21755 */display: inline-block !important;position: relative;}#sk-container-id-3 div.sk-text-repr-fallback {display: none;}</style><div id=\"sk-container-id-3\" class=\"sk-top-container\"><div class=\"sk-text-repr-fallback\"><pre>LinearSVC(dual=False)</pre><b>In a Jupyter environment, please rerun this cell to show the HTML representation or trust the notebook. <br />On GitHub, the HTML representation is unable to render, please try loading this page with nbviewer.org.</b></div><div class=\"sk-container\" hidden><div class=\"sk-item\"><div class=\"sk-estimator sk-toggleable\"><input class=\"sk-toggleable__control sk-hidden--visually\" id=\"sk-estimator-id-3\" type=\"checkbox\" checked><label for=\"sk-estimator-id-3\" class=\"sk-toggleable__label sk-toggleable__label-arrow\">LinearSVC</label><div class=\"sk-toggleable__content\"><pre>LinearSVC(dual=False)</pre></div></div></div></div></div>"
      ],
      "text/plain": [
       "LinearSVC(dual=False)"
      ]
     },
     "execution_count": 59,
     "metadata": {},
     "output_type": "execute_result"
    }
   ],
   "source": [
    "clf = LinearSVC(dual=False)\n",
    "clf.fit(X_train_vectorized, y_train)"
   ]
  },
  {
   "cell_type": "code",
   "execution_count": 60,
   "id": "1bd9e1c1-2b23-4b34-aaef-cabec7816e5e",
   "metadata": {},
   "outputs": [
    {
     "data": {
      "text/plain": [
       "0.9672926033677157"
      ]
     },
     "execution_count": 60,
     "metadata": {},
     "output_type": "execute_result"
    }
   ],
   "source": [
    "clf.score(X_test_vectorized, y_test)"
   ]
  },
  {
   "cell_type": "code",
   "execution_count": 61,
   "id": "c6daf95e-8c23-4da6-a36d-380037b549ba",
   "metadata": {},
   "outputs": [
    {
     "data": {
      "text/plain": [
       "0.9964955588371427"
      ]
     },
     "execution_count": 61,
     "metadata": {},
     "output_type": "execute_result"
    }
   ],
   "source": [
    "clf.score(X_train_vectorized, y_train)"
   ]
  },
  {
   "cell_type": "code",
   "execution_count": 62,
   "id": "3577077a-c463-469e-8a81-f8b5095e004d",
   "metadata": {},
   "outputs": [
    {
     "data": {
      "text/plain": [
       "'Virat Kohli, Anushka Sharma step forward to help victims of Assam and Bihar floodsTRIBUNEINDIAGOVERNMENT'"
      ]
     },
     "execution_count": 62,
     "metadata": {},
     "output_type": "execute_result"
    }
   ],
   "source": [
    "X_test.iloc[10]"
   ]
  },
  {
   "cell_type": "code",
   "execution_count": 63,
   "id": "ac2c4408-7d16-47d7-8bde-968009eb0b80",
   "metadata": {},
   "outputs": [],
   "source": [
    "with open(\"my_Text.txt\", \"w\", encoding = \"utf-8\") as f:\n",
    "        f.write(X_test.iloc[10])"
   ]
  },
  {
   "cell_type": "code",
   "execution_count": 64,
   "id": "e72e6858-2e5c-45e6-a8e8-6f8f985f5ac9",
   "metadata": {},
   "outputs": [],
   "source": [
    "with open(\"my_Text.txt\", \"r\", encoding = \"utf-8\") as f:\n",
    "        text = f.read()"
   ]
  },
  {
   "cell_type": "code",
   "execution_count": 65,
   "id": "c3912813-7a81-4581-bb64-c5a890d0b635",
   "metadata": {},
   "outputs": [],
   "source": [
    "vectorized_text = vectorizer.transform([text])"
   ]
  },
  {
   "cell_type": "code",
   "execution_count": 66,
   "id": "f091fbf1-8e9d-4307-b1bd-249f25f3689a",
   "metadata": {},
   "outputs": [
    {
     "name": "stdout",
     "output_type": "stream",
     "text": [
      "The new article is predicted as real.\n"
     ]
    }
   ],
   "source": [
    "prediction = clf.predict(vectorized_text)\n",
    "if prediction == 0:\n",
    "    print(\"The new article is predicted as real.\")\n",
    "else:\n",
    "    print(\"The new article is predicted as fake.\")"
   ]
  },
  {
   "cell_type": "code",
   "execution_count": 67,
   "id": "1870667e-ef43-4311-970a-920abf05492e",
   "metadata": {},
   "outputs": [
    {
     "data": {
      "text/plain": [
       "0"
      ]
     },
     "execution_count": 67,
     "metadata": {},
     "output_type": "execute_result"
    }
   ],
   "source": [
    "y_test.iloc[10]"
   ]
  },
  {
   "cell_type": "code",
   "execution_count": 68,
   "id": "3f156ac3-04b1-4aa7-936a-7f43f01c0a5b",
   "metadata": {},
   "outputs": [
    {
     "data": {
      "image/png": "[encoded data removed]",
      "text/plain": [
       "<Figure size 640x480 with 1 Axes>"
      ]
     },
     "metadata": {},
     "output_type": "display_data"
    }
   ],
   "source": [
    "from sklearn.metrics import roc_curve, auc\n",
    "\n",
    "fpr, tpr, _ = roc_curve(y_test, clf.decision_function(X_test_vectorized))\n",
    "roc_auc = auc(fpr, tpr)\n",
    "\n",
    "plt.figure()\n",
    "plt.plot(fpr, tpr, color='darkorange', lw=2, label='ROC curve (area = %0.2f)' % roc_auc)\n",
    "plt.plot([0, 1], [0, 1], color='navy', lw=2, linestyle='--')\n",
    "plt.xlabel('False Positive Rate')\n",
    "plt.ylabel('True Positive Rate')\n",
    "plt.title('Receiver Operating Characteristic (ROC) Curve')\n",
    "plt.legend(loc=\"lower right\")\n",
    "plt.show()"
   ]
  },
  {
   "cell_type": "code",
   "execution_count": 69,
   "id": "ea153066",
   "metadata": {},
   "outputs": [
    {
     "data": {
      "image/png": "[encoded data removed]",
      "text/plain": [
       "<Figure size 640x480 with 1 Axes>"
      ]
     },
     "metadata": {},
     "output_type": "display_data"
    }
   ],
   "source": [
    "from sklearn.metrics import precision_recall_curve, average_precision_score\n",
    "\n",
    "precision, recall, _ = precision_recall_curve(y_test, clf.decision_function(X_test_vectorized))\n",
    "average_precision = average_precision_score(y_test, clf.decision_function(X_test_vectorized))\n",
    "\n",
    "plt.figure()\n",
    "plt.step(recall, precision, color='b', alpha=0.2, where='post')\n",
    "plt.fill_between(recall, precision, step='post', alpha=0.2, color='b')\n",
    "plt.xlabel('Recall')\n",
    "plt.ylabel('Precision')\n",
    "plt.title('Precision-Recall curve: AP={0:0.2f}'.format(average_precision))\n",
    "plt.show()"
   ]
  }
 ],
 "metadata": {
  "kernelspec": {
   "display_name": "Python 3 (ipykernel)",
   "language": "python",
   "name": "python3"
  },
  "language_info": {
   "codemirror_mode": {
    "name": "ipython",
    "version": 3
   },
   "file_extension": ".py",
   "mimetype": "text/x-python",
   "name": "python",
   "nbconvert_exporter": "python",
   "pygments_lexer": "ipython3",
   "version": "3.11.5"
  }
 },
 "nbformat": 4,
 "nbformat_minor": 5
}
