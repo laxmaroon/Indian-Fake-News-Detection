{
 "cells": [
  {
   "cell_type": "markdown",
   "id": "3a858080-7909-4f38-bbda-9d7d22680b50",
   "metadata": {},
   "source": [
    "train_test_split: Uses 80% of the dataset for training and 20% for testing.\n",
    "TfidVectorizer: Used to represent the articles in numeric features.\n",
    "TF: Term frequency, number of times a word is repeated\n",
    "IDF: Inverse Document Frequency, tells about some important terms by comparing them  with other documents.\n",
    "LinerSVC: Linear Support Vector Classifier, the actual model used. Best for text data."
   ]
  },
  {
   "cell_type": "code",
<<<<<<< HEAD
   "execution_count": 41,
=======
   "execution_count": 1,
>>>>>>> ee352af20839c71a51b5bcdad9e8e9ed27d78a9a
   "id": "001b1292-98ab-4782-aa82-b79a230d0287",
   "metadata": {},
   "outputs": [],
   "source": [
    "import numpy as np\n",
    "import pandas as pd\n",
<<<<<<< HEAD
    "import matplotlib.pyplot as plt\n",
=======
>>>>>>> ee352af20839c71a51b5bcdad9e8e9ed27d78a9a
    "\n",
    "from sklearn.model_selection import train_test_split\n",
    "from sklearn.feature_extraction.text import TfidfVectorizer\n",
    "from sklearn.svm import LinearSVC"
   ]
  },
  {
   "cell_type": "code",
<<<<<<< HEAD
   "execution_count": 19,
=======
   "execution_count": 2,
>>>>>>> ee352af20839c71a51b5bcdad9e8e9ed27d78a9a
   "id": "6e506ac4-b7b2-42da-96e6-9c224da0e9b1",
   "metadata": {},
   "outputs": [],
   "source": [
    "file_path = 'IFND.csv'\n",
    "\n",
    "# Specify the encoding (e.g., 'utf-8', 'utf-16', 'iso-8859-1', etc.)\n",
    "encoding = 'iso-8859-1'\n",
    "\n",
    "try:\n",
    "    data = pd.read_csv(file_path, encoding=encoding)\n",
    "    # Display the first few rows of the DataFrame\n",
    "    data.head()\n",
    "except UnicodeDecodeError as e:\n",
    "    print(f\"UnicodeDecodeError: {e}\")"
   ]
  },
  {
   "cell_type": "code",
<<<<<<< HEAD
   "execution_count": 20,
=======
   "execution_count": 3,
>>>>>>> ee352af20839c71a51b5bcdad9e8e9ed27d78a9a
   "id": "f598fe62-840a-4406-892c-ec06648b72c6",
   "metadata": {},
   "outputs": [],
   "source": [
    "data['fake'] = data['Label'].apply( lambda x: 0 if x == \"TRUE\" else 1)"
   ]
  },
  {
   "cell_type": "code",
<<<<<<< HEAD
   "execution_count": 21,
=======
   "execution_count": 4,
>>>>>>> ee352af20839c71a51b5bcdad9e8e9ed27d78a9a
   "id": "c554e2b6-a6d8-4255-a55a-e52447a9755e",
   "metadata": {},
   "outputs": [],
   "source": [
    "data = data.drop(\"Label\", axis=1)"
   ]
  },
  {
   "cell_type": "code",
<<<<<<< HEAD
   "execution_count": 22,
=======
   "execution_count": 5,
>>>>>>> ee352af20839c71a51b5bcdad9e8e9ed27d78a9a
   "id": "91ff6fa3-9c59-4bbd-849e-9d21728bc159",
   "metadata": {},
   "outputs": [
    {
     "name": "stdout",
     "output_type": "stream",
     "text": [
      "Number of Fake Articles: 18914\n",
      "Number of Real Articles: 37800\n"
     ]
    }
   ],
   "source": [
    "fake_count = (data['fake'] == 1).sum()  # Assuming 'FAKE' represents fake articles\n",
    "real_count = (data['fake'] == 0).sum()  # Assuming 'REAL' represents real articles\n",
    "\n",
    "print(f\"Number of Fake Articles: {fake_count}\")\n",
    "print(f\"Number of Real Articles: {real_count}\")"
   ]
  },
  {
   "cell_type": "code",
<<<<<<< HEAD
   "execution_count": 23,
=======
   "execution_count": 6,
>>>>>>> ee352af20839c71a51b5bcdad9e8e9ed27d78a9a
   "id": "ad4c27d5-1d03-4ba2-9367-117ae9d33d11",
   "metadata": {
    "scrolled": true
   },
   "outputs": [],
   "source": [
    "X = data['Statement'] + data['Web'] + data['Category']"
   ]
  },
  {
   "cell_type": "code",
<<<<<<< HEAD
   "execution_count": 24,
=======
   "execution_count": 7,
>>>>>>> ee352af20839c71a51b5bcdad9e8e9ed27d78a9a
   "id": "7df7450c-6edf-4ab3-9e0b-53b050d5850d",
   "metadata": {},
   "outputs": [],
   "source": [
    "y = data['fake']"
   ]
  },
  {
   "cell_type": "code",
<<<<<<< HEAD
   "execution_count": 25,
=======
   "execution_count": 8,
>>>>>>> ee352af20839c71a51b5bcdad9e8e9ed27d78a9a
   "id": "8a6b0a36-01a7-4e3a-8b54-3d3ebaa49f0c",
   "metadata": {},
   "outputs": [],
   "source": [
    "X_train, X_test, y_train, y_test = train_test_split( X, y, test_size=0.2)"
   ]
  },
  {
   "cell_type": "code",
<<<<<<< HEAD
   "execution_count": 26,
=======
   "execution_count": 9,
>>>>>>> ee352af20839c71a51b5bcdad9e8e9ed27d78a9a
   "id": "3a1d656e-580c-4b82-bd15-95c95052119e",
   "metadata": {},
   "outputs": [],
   "source": [
    "vectorizer = TfidfVectorizer(stop_words = \"english\", max_df = 0.7)\n",
    "X_train_vectorized = vectorizer.fit_transform(X_train)\n",
    "X_test_vectorized = vectorizer.transform(X_test)"
   ]
  },
  {
   "cell_type": "code",
<<<<<<< HEAD
   "execution_count": 27,
=======
   "execution_count": 10,
>>>>>>> ee352af20839c71a51b5bcdad9e8e9ed27d78a9a
   "id": "27a98204-aef6-45a1-a13a-0a84fd2dfec1",
   "metadata": {},
   "outputs": [
    {
     "name": "stdout",
     "output_type": "stream",
     "text": [
<<<<<<< HEAD
      "X_train_vectorized shape: (45371, 50886)\n",
=======
      "X_train_vectorized shape: (45371, 50823)\n",
>>>>>>> ee352af20839c71a51b5bcdad9e8e9ed27d78a9a
      "y_train shape: (45371,)\n"
     ]
    }
   ],
   "source": [
    "print(\"X_train_vectorized shape:\", X_train_vectorized.shape)\n",
    "print(\"y_train shape:\", y_train.shape)"
   ]
  },
  {
   "cell_type": "code",
<<<<<<< HEAD
   "execution_count": 28,
=======
   "execution_count": 11,
>>>>>>> ee352af20839c71a51b5bcdad9e8e9ed27d78a9a
   "id": "01df6fc0-c242-4e59-b0ca-4f915aa44359",
   "metadata": {},
   "outputs": [
    {
     "data": {
      "text/plain": [
       "45371"
      ]
     },
<<<<<<< HEAD
     "execution_count": 28,
=======
     "execution_count": 11,
>>>>>>> ee352af20839c71a51b5bcdad9e8e9ed27d78a9a
     "metadata": {},
     "output_type": "execute_result"
    }
   ],
   "source": [
    "len(X_train)"
   ]
  },
  {
   "cell_type": "code",
<<<<<<< HEAD
   "execution_count": 29,
=======
   "execution_count": 13,
>>>>>>> ee352af20839c71a51b5bcdad9e8e9ed27d78a9a
   "id": "41c7a471-e337-4475-9ebd-a4c324e99a96",
   "metadata": {},
   "outputs": [
    {
     "data": {
      "text/plain": [
       "11343"
      ]
     },
<<<<<<< HEAD
     "execution_count": 29,
=======
     "execution_count": 13,
>>>>>>> ee352af20839c71a51b5bcdad9e8e9ed27d78a9a
     "metadata": {},
     "output_type": "execute_result"
    }
   ],
   "source": [
    "len(X_test)"
   ]
  },
  {
   "cell_type": "code",
<<<<<<< HEAD
   "execution_count": 30,
=======
   "execution_count": 14,
>>>>>>> ee352af20839c71a51b5bcdad9e8e9ed27d78a9a
   "id": "f781ebf3-8b49-4205-bb24-f4dc542060c9",
   "metadata": {},
   "outputs": [
    {
     "data": {
      "text/html": [
<<<<<<< HEAD
       "<style>#sk-container-id-2 {color: black;}#sk-container-id-2 pre{padding: 0;}#sk-container-id-2 div.sk-toggleable {background-color: white;}#sk-container-id-2 label.sk-toggleable__label {cursor: pointer;display: block;width: 100%;margin-bottom: 0;padding: 0.3em;box-sizing: border-box;text-align: center;}#sk-container-id-2 label.sk-toggleable__label-arrow:before {content: \"▸\";float: left;margin-right: 0.25em;color: #696969;}#sk-container-id-2 label.sk-toggleable__label-arrow:hover:before {color: black;}#sk-container-id-2 div.sk-estimator:hover label.sk-toggleable__label-arrow:before {color: black;}#sk-container-id-2 div.sk-toggleable__content {max-height: 0;max-width: 0;overflow: hidden;text-align: left;background-color: #f0f8ff;}#sk-container-id-2 div.sk-toggleable__content pre {margin: 0.2em;color: black;border-radius: 0.25em;background-color: #f0f8ff;}#sk-container-id-2 input.sk-toggleable__control:checked~div.sk-toggleable__content {max-height: 200px;max-width: 100%;overflow: auto;}#sk-container-id-2 input.sk-toggleable__control:checked~label.sk-toggleable__label-arrow:before {content: \"▾\";}#sk-container-id-2 div.sk-estimator input.sk-toggleable__control:checked~label.sk-toggleable__label {background-color: #d4ebff;}#sk-container-id-2 div.sk-label input.sk-toggleable__control:checked~label.sk-toggleable__label {background-color: #d4ebff;}#sk-container-id-2 input.sk-hidden--visually {border: 0;clip: rect(1px 1px 1px 1px);clip: rect(1px, 1px, 1px, 1px);height: 1px;margin: -1px;overflow: hidden;padding: 0;position: absolute;width: 1px;}#sk-container-id-2 div.sk-estimator {font-family: monospace;background-color: #f0f8ff;border: 1px dotted black;border-radius: 0.25em;box-sizing: border-box;margin-bottom: 0.5em;}#sk-container-id-2 div.sk-estimator:hover {background-color: #d4ebff;}#sk-container-id-2 div.sk-parallel-item::after {content: \"\";width: 100%;border-bottom: 1px solid gray;flex-grow: 1;}#sk-container-id-2 div.sk-label:hover label.sk-toggleable__label {background-color: #d4ebff;}#sk-container-id-2 div.sk-serial::before {content: \"\";position: absolute;border-left: 1px solid gray;box-sizing: border-box;top: 0;bottom: 0;left: 50%;z-index: 0;}#sk-container-id-2 div.sk-serial {display: flex;flex-direction: column;align-items: center;background-color: white;padding-right: 0.2em;padding-left: 0.2em;position: relative;}#sk-container-id-2 div.sk-item {position: relative;z-index: 1;}#sk-container-id-2 div.sk-parallel {display: flex;align-items: stretch;justify-content: center;background-color: white;position: relative;}#sk-container-id-2 div.sk-item::before, #sk-container-id-2 div.sk-parallel-item::before {content: \"\";position: absolute;border-left: 1px solid gray;box-sizing: border-box;top: 0;bottom: 0;left: 50%;z-index: -1;}#sk-container-id-2 div.sk-parallel-item {display: flex;flex-direction: column;z-index: 1;position: relative;background-color: white;}#sk-container-id-2 div.sk-parallel-item:first-child::after {align-self: flex-end;width: 50%;}#sk-container-id-2 div.sk-parallel-item:last-child::after {align-self: flex-start;width: 50%;}#sk-container-id-2 div.sk-parallel-item:only-child::after {width: 0;}#sk-container-id-2 div.sk-dashed-wrapped {border: 1px dashed gray;margin: 0 0.4em 0.5em 0.4em;box-sizing: border-box;padding-bottom: 0.4em;background-color: white;}#sk-container-id-2 div.sk-label label {font-family: monospace;font-weight: bold;display: inline-block;line-height: 1.2em;}#sk-container-id-2 div.sk-label-container {text-align: center;}#sk-container-id-2 div.sk-container {/* jupyter's `normalize.less` sets `[hidden] { display: none; }` but bootstrap.min.css set `[hidden] { display: none !important; }` so we also need the `!important` here to be able to override the default hidden behavior on the sphinx rendered scikit-learn.org. See: https://github.com/scikit-learn/scikit-learn/issues/21755 */display: inline-block !important;position: relative;}#sk-container-id-2 div.sk-text-repr-fallback {display: none;}</style><div id=\"sk-container-id-2\" class=\"sk-top-container\"><div class=\"sk-text-repr-fallback\"><pre>LinearSVC(dual=False)</pre><b>In a Jupyter environment, please rerun this cell to show the HTML representation or trust the notebook. <br />On GitHub, the HTML representation is unable to render, please try loading this page with nbviewer.org.</b></div><div class=\"sk-container\" hidden><div class=\"sk-item\"><div class=\"sk-estimator sk-toggleable\"><input class=\"sk-toggleable__control sk-hidden--visually\" id=\"sk-estimator-id-2\" type=\"checkbox\" checked><label for=\"sk-estimator-id-2\" class=\"sk-toggleable__label sk-toggleable__label-arrow\">LinearSVC</label><div class=\"sk-toggleable__content\"><pre>LinearSVC(dual=False)</pre></div></div></div></div></div>"
=======
       "<style>#sk-container-id-1 {color: black;}#sk-container-id-1 pre{padding: 0;}#sk-container-id-1 div.sk-toggleable {background-color: white;}#sk-container-id-1 label.sk-toggleable__label {cursor: pointer;display: block;width: 100%;margin-bottom: 0;padding: 0.3em;box-sizing: border-box;text-align: center;}#sk-container-id-1 label.sk-toggleable__label-arrow:before {content: \"▸\";float: left;margin-right: 0.25em;color: #696969;}#sk-container-id-1 label.sk-toggleable__label-arrow:hover:before {color: black;}#sk-container-id-1 div.sk-estimator:hover label.sk-toggleable__label-arrow:before {color: black;}#sk-container-id-1 div.sk-toggleable__content {max-height: 0;max-width: 0;overflow: hidden;text-align: left;background-color: #f0f8ff;}#sk-container-id-1 div.sk-toggleable__content pre {margin: 0.2em;color: black;border-radius: 0.25em;background-color: #f0f8ff;}#sk-container-id-1 input.sk-toggleable__control:checked~div.sk-toggleable__content {max-height: 200px;max-width: 100%;overflow: auto;}#sk-container-id-1 input.sk-toggleable__control:checked~label.sk-toggleable__label-arrow:before {content: \"▾\";}#sk-container-id-1 div.sk-estimator input.sk-toggleable__control:checked~label.sk-toggleable__label {background-color: #d4ebff;}#sk-container-id-1 div.sk-label input.sk-toggleable__control:checked~label.sk-toggleable__label {background-color: #d4ebff;}#sk-container-id-1 input.sk-hidden--visually {border: 0;clip: rect(1px 1px 1px 1px);clip: rect(1px, 1px, 1px, 1px);height: 1px;margin: -1px;overflow: hidden;padding: 0;position: absolute;width: 1px;}#sk-container-id-1 div.sk-estimator {font-family: monospace;background-color: #f0f8ff;border: 1px dotted black;border-radius: 0.25em;box-sizing: border-box;margin-bottom: 0.5em;}#sk-container-id-1 div.sk-estimator:hover {background-color: #d4ebff;}#sk-container-id-1 div.sk-parallel-item::after {content: \"\";width: 100%;border-bottom: 1px solid gray;flex-grow: 1;}#sk-container-id-1 div.sk-label:hover label.sk-toggleable__label {background-color: #d4ebff;}#sk-container-id-1 div.sk-serial::before {content: \"\";position: absolute;border-left: 1px solid gray;box-sizing: border-box;top: 0;bottom: 0;left: 50%;z-index: 0;}#sk-container-id-1 div.sk-serial {display: flex;flex-direction: column;align-items: center;background-color: white;padding-right: 0.2em;padding-left: 0.2em;position: relative;}#sk-container-id-1 div.sk-item {position: relative;z-index: 1;}#sk-container-id-1 div.sk-parallel {display: flex;align-items: stretch;justify-content: center;background-color: white;position: relative;}#sk-container-id-1 div.sk-item::before, #sk-container-id-1 div.sk-parallel-item::before {content: \"\";position: absolute;border-left: 1px solid gray;box-sizing: border-box;top: 0;bottom: 0;left: 50%;z-index: -1;}#sk-container-id-1 div.sk-parallel-item {display: flex;flex-direction: column;z-index: 1;position: relative;background-color: white;}#sk-container-id-1 div.sk-parallel-item:first-child::after {align-self: flex-end;width: 50%;}#sk-container-id-1 div.sk-parallel-item:last-child::after {align-self: flex-start;width: 50%;}#sk-container-id-1 div.sk-parallel-item:only-child::after {width: 0;}#sk-container-id-1 div.sk-dashed-wrapped {border: 1px dashed gray;margin: 0 0.4em 0.5em 0.4em;box-sizing: border-box;padding-bottom: 0.4em;background-color: white;}#sk-container-id-1 div.sk-label label {font-family: monospace;font-weight: bold;display: inline-block;line-height: 1.2em;}#sk-container-id-1 div.sk-label-container {text-align: center;}#sk-container-id-1 div.sk-container {/* jupyter's `normalize.less` sets `[hidden] { display: none; }` but bootstrap.min.css set `[hidden] { display: none !important; }` so we also need the `!important` here to be able to override the default hidden behavior on the sphinx rendered scikit-learn.org. See: https://github.com/scikit-learn/scikit-learn/issues/21755 */display: inline-block !important;position: relative;}#sk-container-id-1 div.sk-text-repr-fallback {display: none;}</style><div id=\"sk-container-id-1\" class=\"sk-top-container\"><div class=\"sk-text-repr-fallback\"><pre>LinearSVC(dual=False)</pre><b>In a Jupyter environment, please rerun this cell to show the HTML representation or trust the notebook. <br />On GitHub, the HTML representation is unable to render, please try loading this page with nbviewer.org.</b></div><div class=\"sk-container\" hidden><div class=\"sk-item\"><div class=\"sk-estimator sk-toggleable\"><input class=\"sk-toggleable__control sk-hidden--visually\" id=\"sk-estimator-id-1\" type=\"checkbox\" checked><label for=\"sk-estimator-id-1\" class=\"sk-toggleable__label sk-toggleable__label-arrow\">LinearSVC</label><div class=\"sk-toggleable__content\"><pre>LinearSVC(dual=False)</pre></div></div></div></div></div>"
>>>>>>> ee352af20839c71a51b5bcdad9e8e9ed27d78a9a
      ],
      "text/plain": [
       "LinearSVC(dual=False)"
      ]
     },
<<<<<<< HEAD
     "execution_count": 30,
=======
     "execution_count": 14,
>>>>>>> ee352af20839c71a51b5bcdad9e8e9ed27d78a9a
     "metadata": {},
     "output_type": "execute_result"
    }
   ],
   "source": [
    "clf = LinearSVC(dual=False)\n",
    "clf.fit(X_train_vectorized, y_train)"
   ]
  },
  {
   "cell_type": "code",
<<<<<<< HEAD
   "execution_count": 31,
=======
   "execution_count": 15,
>>>>>>> ee352af20839c71a51b5bcdad9e8e9ed27d78a9a
   "id": "1bd9e1c1-2b23-4b34-aaef-cabec7816e5e",
   "metadata": {},
   "outputs": [
    {
     "data": {
      "text/plain": [
<<<<<<< HEAD
       "0.9646478004055364"
      ]
     },
     "execution_count": 31,
=======
       "0.9629727585294896"
      ]
     },
     "execution_count": 15,
>>>>>>> ee352af20839c71a51b5bcdad9e8e9ed27d78a9a
     "metadata": {},
     "output_type": "execute_result"
    }
   ],
   "source": [
    "clf.score(X_test_vectorized, y_test)"
   ]
  },
  {
   "cell_type": "code",
<<<<<<< HEAD
   "execution_count": 32,
=======
   "execution_count": 16,
>>>>>>> ee352af20839c71a51b5bcdad9e8e9ed27d78a9a
   "id": "c6daf95e-8c23-4da6-a36d-380037b549ba",
   "metadata": {},
   "outputs": [
    {
     "data": {
      "text/plain": [
<<<<<<< HEAD
       "0.996429437305768"
      ]
     },
     "execution_count": 32,
=======
       "0.9967600449626414"
      ]
     },
     "execution_count": 16,
>>>>>>> ee352af20839c71a51b5bcdad9e8e9ed27d78a9a
     "metadata": {},
     "output_type": "execute_result"
    }
   ],
   "source": [
    "clf.score(X_train_vectorized, y_train)"
   ]
  },
  {
   "cell_type": "code",
<<<<<<< HEAD
   "execution_count": 33,
   "id": "3577077a-c463-469e-8a81-f8b5095e004d",
   "metadata": {},
   "outputs": [],
=======
   "execution_count": 17,
   "id": "3577077a-c463-469e-8a81-f8b5095e004d",
   "metadata": {},
   "outputs": [
    {
     "data": {
      "text/plain": [
       "'Mumbai Police file charge sheet in fake TRP scamTRIBUNEINDIAVIOLENCE'"
      ]
     },
     "execution_count": 17,
     "metadata": {},
     "output_type": "execute_result"
    }
   ],
>>>>>>> ee352af20839c71a51b5bcdad9e8e9ed27d78a9a
   "source": [
    "X_test.iloc[10]"
   ]
  },
  {
   "cell_type": "code",
<<<<<<< HEAD
   "execution_count": 34,
=======
   "execution_count": 19,
>>>>>>> ee352af20839c71a51b5bcdad9e8e9ed27d78a9a
   "id": "ac2c4408-7d16-47d7-8bde-968009eb0b80",
   "metadata": {},
   "outputs": [],
   "source": [
    "with open(\"my_Text.txt\", \"w\", encoding = \"utf-8\") as f:\n",
    "        f.write(X_test.iloc[10])"
   ]
  },
  {
   "cell_type": "code",
<<<<<<< HEAD
   "execution_count": 35,
=======
   "execution_count": 23,
>>>>>>> ee352af20839c71a51b5bcdad9e8e9ed27d78a9a
   "id": "e72e6858-2e5c-45e6-a8e8-6f8f985f5ac9",
   "metadata": {},
   "outputs": [],
   "source": [
    "with open(\"my_Text.txt\", \"r\", encoding = \"utf-8\") as f:\n",
    "        text = f.read()"
   ]
  },
  {
   "cell_type": "code",
<<<<<<< HEAD
   "execution_count": 36,
=======
   "execution_count": 24,
>>>>>>> ee352af20839c71a51b5bcdad9e8e9ed27d78a9a
   "id": "c3912813-7a81-4581-bb64-c5a890d0b635",
   "metadata": {},
   "outputs": [],
   "source": [
    "vectorized_text = vectorizer.transform([text])"
   ]
  },
  {
   "cell_type": "code",
<<<<<<< HEAD
   "execution_count": 37,
=======
   "execution_count": 25,
>>>>>>> ee352af20839c71a51b5bcdad9e8e9ed27d78a9a
   "id": "f091fbf1-8e9d-4307-b1bd-249f25f3689a",
   "metadata": {},
   "outputs": [
    {
     "name": "stdout",
     "output_type": "stream",
     "text": [
      "The new article is predicted as real.\n"
     ]
    }
   ],
   "source": [
    "prediction = clf.predict(vectorized_text)\n",
    "if prediction == 0:\n",
    "    print(\"The new article is predicted as real.\")\n",
    "else:\n",
    "    print(\"The new article is predicted as fake.\")"
   ]
  },
  {
   "cell_type": "code",
<<<<<<< HEAD
   "execution_count": 38,
=======
   "execution_count": 26,
>>>>>>> ee352af20839c71a51b5bcdad9e8e9ed27d78a9a
   "id": "1870667e-ef43-4311-970a-920abf05492e",
   "metadata": {},
   "outputs": [
    {
     "data": {
      "text/plain": [
       "0"
      ]
     },
<<<<<<< HEAD
     "execution_count": 38,
=======
     "execution_count": 26,
>>>>>>> ee352af20839c71a51b5bcdad9e8e9ed27d78a9a
     "metadata": {},
     "output_type": "execute_result"
    }
   ],
   "source": [
    "y_test.iloc[10]"
   ]
  },
  {
   "cell_type": "code",
<<<<<<< HEAD
   "execution_count": 42,
   "id": "3f156ac3-04b1-4aa7-936a-7f43f01c0a5b",
   "metadata": {},
   "outputs": [
    {
     "data": {
      "image/png": "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",
      "text/plain": [
       "<Figure size 640x480 with 1 Axes>"
      ]
     },
     "metadata": {},
     "output_type": "display_data"
    }
   ],
   "source": [
    "from sklearn.metrics import roc_curve, auc\n",
    "\n",
    "fpr, tpr, _ = roc_curve(y_test, clf.decision_function(X_test_vectorized))\n",
    "roc_auc = auc(fpr, tpr)\n",
    "\n",
    "plt.figure()\n",
    "plt.plot(fpr, tpr, color='darkorange', lw=2, label='ROC curve (area = %0.2f)' % roc_auc)\n",
    "plt.plot([0, 1], [0, 1], color='navy', lw=2, linestyle='--')\n",
    "plt.xlabel('False Positive Rate')\n",
    "plt.ylabel('True Positive Rate')\n",
    "plt.title('Receiver Operating Characteristic (ROC) Curve')\n",
    "plt.legend(loc=\"lower right\")\n",
    "plt.show()"
   ]
  },
  {
   "cell_type": "code",
   "execution_count": 46,
   "id": "ea153066",
   "metadata": {},
   "outputs": [
    {
     "data": {
      "image/png": "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",
      "text/plain": [
       "<Figure size 640x480 with 1 Axes>"
      ]
     },
     "metadata": {},
     "output_type": "display_data"
    }
   ],
   "source": [
    "from sklearn.metrics import precision_recall_curve, average_precision_score\n",
    "\n",
    "precision, recall, _ = precision_recall_curve(y_test, clf.decision_function(X_test_vectorized))\n",
    "average_precision = average_precision_score(y_test, clf.decision_function(X_test_vectorized))\n",
    "\n",
    "plt.figure()\n",
    "plt.step(recall, precision, color='b', alpha=0.2, where='post')\n",
    "plt.fill_between(recall, precision, step='post', alpha=0.2, color='b')\n",
    "plt.xlabel('Recall')\n",
    "plt.ylabel('Precision')\n",
    "plt.title('Precision-Recall curve: AP={0:0.2f}'.format(average_precision))\n",
    "plt.show()"
   ]
=======
   "execution_count": null,
   "id": "3f156ac3-04b1-4aa7-936a-7f43f01c0a5b",
   "metadata": {},
   "outputs": [],
   "source": []
>>>>>>> ee352af20839c71a51b5bcdad9e8e9ed27d78a9a
  }
 ],
 "metadata": {
  "kernelspec": {
   "display_name": "Python 3 (ipykernel)",
   "language": "python",
   "name": "python3"
  },
  "language_info": {
   "codemirror_mode": {
    "name": "ipython",
    "version": 3
   },
   "file_extension": ".py",
   "mimetype": "text/x-python",
   "name": "python",
   "nbconvert_exporter": "python",
   "pygments_lexer": "ipython3",
   "version": "3.11.5"
  }
 },
 "nbformat": 4,
 "nbformat_minor": 5
}
